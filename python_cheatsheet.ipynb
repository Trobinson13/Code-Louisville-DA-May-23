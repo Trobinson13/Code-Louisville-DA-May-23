{
  "cells": [
    {
      "cell_type": "markdown",
      "metadata": {
        "tags": []
      },
      "source": [
        "# Welcome!  This is a Python Cheatsheet to help cover some basics"
      ]
    },
    {
      "cell_type": "markdown",
      "metadata": {},
      "source": [
        "## Syntax & Numerical Operators"
      ]
    },
    {
      "cell_type": "code",
      "execution_count": 1,
      "metadata": {
        "trusted": true
      },
      "outputs": [
        {
          "name": "stdout",
          "output_type": "stream",
          "text": [
            "100\n"
          ]
        }
      ],
      "source": [
        "number = 10\n",
        "number = 100\n",
        "print(number)\n",
        "# 100"
      ]
    },
    {
      "cell_type": "markdown",
      "metadata": {},
      "source": [
        "### Fundamental Data Types"
      ]
    },
    {
      "cell_type": "markdown",
      "metadata": {},
      "source": [
        "#### Strings(str)"
      ]
    },
    {
      "cell_type": "markdown",
      "metadata": {},
      "source": [
        "- To store any sequence of characters like a name or an address.\n",
        "- A string is always wrapped in either ‘single’ or “double quotes”\n",
        "- Its more pythonic to use single quotes until you need double quotes "
      ]
    },
    {
      "cell_type": "code",
      "execution_count": 2,
      "metadata": {
        "tags": [],
        "trusted": true
      },
      "outputs": [
        {
          "data": {
            "text/plain": [
              "str"
            ]
          },
          "execution_count": 2,
          "metadata": {},
          "output_type": "execute_result"
        }
      ],
      "source": [
        "type(\"person123\")\n",
        "#<class ‘str’>"
      ]
    },
    {
      "cell_type": "markdown",
      "metadata": {},
      "source": [
        "#### Integers(int)"
      ]
    },
    {
      "cell_type": "markdown",
      "metadata": {},
      "source": [
        " - to store whole numbers"
      ]
    },
    {
      "cell_type": "code",
      "execution_count": 3,
      "metadata": {
        "trusted": true
      },
      "outputs": [
        {
          "data": {
            "text/plain": [
              "int"
            ]
          },
          "execution_count": 3,
          "metadata": {},
          "output_type": "execute_result"
        }
      ],
      "source": [
        "type(12)\n",
        "#<class ‘int’>"
      ]
    },
    {
      "cell_type": "markdown",
      "metadata": {},
      "source": [
        "Can store integers with underscores for human readable purposes"
      ]
    },
    {
      "cell_type": "code",
      "execution_count": 4,
      "metadata": {
        "trusted": true
      },
      "outputs": [
        {
          "name": "stdout",
          "output_type": "stream",
          "text": [
            "123456786\n"
          ]
        }
      ],
      "source": [
        "print(123_456_786)\n",
        "#123456786"
      ]
    },
    {
      "cell_type": "markdown",
      "metadata": {},
      "source": [
        "#### Floats(float)"
      ]
    },
    {
      "cell_type": "markdown",
      "metadata": {},
      "source": [
        "To store decimal numbers."
      ]
    },
    {
      "cell_type": "code",
      "execution_count": 5,
      "metadata": {
        "trusted": true
      },
      "outputs": [
        {
          "data": {
            "text/plain": [
              "float"
            ]
          },
          "execution_count": 5,
          "metadata": {},
          "output_type": "execute_result"
        }
      ],
      "source": [
        "type(12.0)\n",
        "#<class ‘float’>"
      ]
    },
    {
      "cell_type": "markdown",
      "metadata": {},
      "source": [
        "### Arithmetic Operators"
      ]
    },
    {
      "cell_type": "markdown",
      "metadata": {},
      "source": [
        "The four standard operators are +, -, *, and / . These allow use to add, subtract, multiply, and divide.  Examples of them in use:"
      ]
    },
    {
      "cell_type": "code",
      "execution_count": null,
      "metadata": {},
      "outputs": [],
      "source": [
        "210 + 32\n",
        "# 242"
      ]
    },
    {
      "cell_type": "code",
      "execution_count": null,
      "metadata": {},
      "outputs": [],
      "source": [
        "6 - 43\n",
        "# -37"
      ]
    },
    {
      "cell_type": "code",
      "execution_count": 6,
      "metadata": {
        "trusted": true
      },
      "outputs": [
        {
          "data": {
            "text/plain": [
              "6.888888888888889"
            ]
          },
          "execution_count": 6,
          "metadata": {},
          "output_type": "execute_result"
        }
      ],
      "source": [
        "62 / 9\n",
        "# 6.88888888888889"
      ]
    },
    {
      "cell_type": "code",
      "execution_count": null,
      "metadata": {},
      "outputs": [],
      "source": [
        "9 * 8.12\n",
        "#73.00"
      ]
    },
    {
      "cell_type": "markdown",
      "metadata": {},
      "source": [
        "Using the division operator / will always return a float.  And whenever you use a float in your calculation, a float will be returned, even if the number is a whole number ending in .0.\n",
        "If you want to perform floor division to return an int, use the // operator."
      ]
    },
    {
      "cell_type": "code",
      "execution_count": 7,
      "metadata": {
        "trusted": true
      },
      "outputs": [
        {
          "data": {
            "text/plain": [
              "6"
            ]
          },
          "execution_count": 7,
          "metadata": {},
          "output_type": "execute_result"
        }
      ],
      "source": [
        "62 // 9\n",
        "# 6"
      ]
    },
    {
      "cell_type": "markdown",
      "metadata": {},
      "source": [
        "### Complex Operators"
      ]
    },
    {
      "cell_type": "markdown",
      "metadata": {},
      "source": [
        "Python uses the exponent operator, **, to multiply a number to the power of another.\n",
        "Here are some examples:"
      ]
    },
    {
      "cell_type": "code",
      "execution_count": 8,
      "metadata": {
        "trusted": true
      },
      "outputs": [
        {
          "data": {
            "text/plain": [
              "16"
            ]
          },
          "execution_count": 8,
          "metadata": {},
          "output_type": "execute_result"
        }
      ],
      "source": [
        "2 ** 4\n",
        "# 16\n"
      ]
    },
    {
      "cell_type": "code",
      "execution_count": 9,
      "metadata": {
        "trusted": true
      },
      "outputs": [
        {
          "data": {
            "text/plain": [
              "-81"
            ]
          },
          "execution_count": 9,
          "metadata": {},
          "output_type": "execute_result"
        }
      ],
      "source": [
        "-3 ** 4\n",
        "# -81\n",
        "# The ** operator is executed before the - operator, so the calculation is -(3**4)."
      ]
    },
    {
      "cell_type": "code",
      "execution_count": 10,
      "metadata": {
        "trusted": true
      },
      "outputs": [
        {
          "data": {
            "text/plain": [
              "0.25"
            ]
          },
          "execution_count": 10,
          "metadata": {},
          "output_type": "execute_result"
        }
      ],
      "source": [
        "2 ** -2\n",
        "# 0.25"
      ]
    },
    {
      "cell_type": "markdown",
      "metadata": {},
      "source": [
        "Python uses the modulus operator, %, to return the remainder of a division."
      ]
    },
    {
      "cell_type": "code",
      "execution_count": 11,
      "metadata": {
        "trusted": true
      },
      "outputs": [
        {
          "data": {
            "text/plain": [
              "2"
            ]
          },
          "execution_count": 11,
          "metadata": {},
          "output_type": "execute_result"
        }
      ],
      "source": [
        "14 % 3\n",
        "# 2"
      ]
    },
    {
      "cell_type": "markdown",
      "metadata": {},
      "source": [
        "### Execution Order of Operators"
      ]
    },
    {
      "cell_type": "markdown",
      "metadata": {},
      "source": [
        "What will be the result of the following expression ?"
      ]
    },
    {
      "cell_type": "markdown",
      "metadata": {},
      "source": [
        ">>> 2 + 9 * 4 / 3 - 5"
      ]
    },
    {
      "attachments": {
        "0ce3d0d6-02d8-4e84-bea7-814f3a679553.png": {
          "image/png": "[encoded data removed]"
        }
      },
      "cell_type": "markdown",
      "metadata": {},
      "source": [
        "![image.png](attachment:0ce3d0d6-02d8-4e84-bea7-814f3a679553.png)"
      ]
    },
    {
      "cell_type": "markdown",
      "metadata": {},
      "source": [
        "### Shorthand Notations For Arithmetic Operators"
      ]
    },
    {
      "cell_type": "markdown",
      "metadata": {},
      "source": [
        "When you are performing calculations like these:"
      ]
    },
    {
      "cell_type": "code",
      "execution_count": 12,
      "metadata": {
        "trusted": true
      },
      "outputs": [],
      "source": [
        "x = 10\n",
        "x = x + 1\n",
        "x = x -1\n",
        "x = x / 2\n",
        "x = x // 2\n",
        "x = x * 2\n",
        "x = x % 2\n",
        "x = x ** 2"
      ]
    },
    {
      "cell_type": "markdown",
      "metadata": {},
      "source": [
        "You can use shorthand notation for all of these operations instead:"
      ]
    },
    {
      "attachments": {
        "9b9cb37c-91b1-4484-9f5f-ca690d4ee309.png": {
          "image/png": "[encoded data removed]"
        }
      },
      "cell_type": "markdown",
      "metadata": {},
      "source": [
        "![image.png](attachment:9b9cb37c-91b1-4484-9f5f-ca690d4ee309.png)"
      ]
    },
    {
      "cell_type": "markdown",
      "metadata": {},
      "source": [
        "You can also use shorthand notation with variables."
      ]
    },
    {
      "cell_type": "code",
      "execution_count": 13,
      "metadata": {
        "trusted": true
      },
      "outputs": [],
      "source": [
        "x = 2\n",
        "y = 3\n",
        "\n",
        "x += y\n",
        "# x becomes 5\n",
        "\n",
        "y **= x\n",
        "# y becomes 243"
      ]
    },
    {
      "cell_type": "markdown",
      "metadata": {},
      "source": [
        "### Number Manipulation"
      ]
    },
    {
      "cell_type": "markdown",
      "metadata": {},
      "source": [
        "To Round a number"
      ]
    },
    {
      "cell_type": "code",
      "execution_count": 14,
      "metadata": {
        "trusted": true
      },
      "outputs": [
        {
          "name": "stdout",
          "output_type": "stream",
          "text": [
            "2\n"
          ]
        }
      ],
      "source": [
        "# Method 1\n",
        "print(int(8/3))"
      ]
    },
    {
      "cell_type": "code",
      "execution_count": 15,
      "metadata": {
        "trusted": true
      },
      "outputs": [
        {
          "name": "stdout",
          "output_type": "stream",
          "text": [
            "3\n"
          ]
        }
      ],
      "source": [
        "# Method 2\n",
        "print(round(8/3))\n",
        "# 2"
      ]
    },
    {
      "cell_type": "code",
      "execution_count": 16,
      "metadata": {
        "trusted": true
      },
      "outputs": [
        {
          "name": "stdout",
          "output_type": "stream",
          "text": [
            "2.67\n"
          ]
        }
      ],
      "source": [
        "# Specify the amount of digits you want to round to\n",
        "print(round(8/3, 2))\n",
        "# 2.67"
      ]
    },
    {
      "cell_type": "markdown",
      "metadata": {},
      "source": [
        "## Control Flow 1"
      ]
    },
    {
      "cell_type": "markdown",
      "metadata": {},
      "source": [
        "### If Else Statements"
      ]
    },
    {
      "cell_type": "markdown",
      "metadata": {},
      "source": [
        "Will only execute the code if the condition has been met"
      ]
    },
    {
      "cell_type": "code",
      "execution_count": 17,
      "metadata": {
        "trusted": true
      },
      "outputs": [
        {
          "name": "stdout",
          "output_type": "stream",
          "text": [
            "3 Is a positive numer\n"
          ]
        }
      ],
      "source": [
        "num = 3\n",
        "if num > 0:\n",
        "    print(num,\"Is a positive numer\")"
      ]
    },
    {
      "cell_type": "markdown",
      "metadata": {},
      "source": [
        "Add an else statement to handle the code if the condition is not met"
      ]
    },
    {
      "cell_type": "code",
      "execution_count": 18,
      "metadata": {
        "trusted": true
      },
      "outputs": [
        {
          "name": "stdout",
          "output_type": "stream",
          "text": [
            "The number is positive\n"
          ]
        }
      ],
      "source": [
        "num = 2\n",
        "if num <= 0:\n",
        "    print(\"The number is Zero\")\n",
        "else:\n",
        "    print(\"The number is positive\")"
      ]
    },
    {
      "attachments": {
        "01a30864-f964-4816-8379-3288c46211ea.png": {
          "image/png": "[encoded data removed]"
        }
      },
      "cell_type": "markdown",
      "metadata": {},
      "source": [
        "![image.png](attachment:01a30864-f964-4816-8379-3288c46211ea.png)"
      ]
    },
    {
      "cell_type": "markdown",
      "metadata": {},
      "source": [
        "### if…elif…else"
      ]
    },
    {
      "cell_type": "markdown",
      "metadata": {},
      "source": [
        "if condition:\n",
        "    print('do something')\n",
        "elif condition:\n",
        "    print('do something else')\n",
        "else:\n",
        "    print('do some other thing')"
      ]
    },
    {
      "cell_type": "code",
      "execution_count": 19,
      "metadata": {
        "trusted": true
      },
      "outputs": [
        {
          "name": "stdout",
          "output_type": "stream",
          "text": [
            "Zero\n"
          ]
        }
      ],
      "source": [
        "num = 0\n",
        "\n",
        "if num > 0:\n",
        "    print('Positive numbner')\n",
        "elif num == 0:\n",
        "    print('Zero')\n",
        "else:\n",
        "    print('Negative number')"
      ]
    },
    {
      "cell_type": "markdown",
      "metadata": {},
      "source": [
        "### Introduction to Booleans"
      ]
    },
    {
      "cell_type": "markdown",
      "metadata": {},
      "source": [
        "Using comparison operators to check if a condition has been met returns a boolean value"
      ]
    },
    {
      "cell_type": "code",
      "execution_count": 20,
      "metadata": {
        "trusted": true
      },
      "outputs": [
        {
          "data": {
            "text/plain": [
              "True"
            ]
          },
          "execution_count": 20,
          "metadata": {},
          "output_type": "execute_result"
        }
      ],
      "source": [
        "x = 3\n",
        "\n",
        "x > 2\n",
        "# True"
      ]
    },
    {
      "cell_type": "markdown",
      "metadata": {},
      "source": [
        "Once an if statement condition evaluates to True,  the indented code block will run"
      ]
    },
    {
      "cell_type": "code",
      "execution_count": 21,
      "metadata": {
        "trusted": true
      },
      "outputs": [
        {
          "name": "stdout",
          "output_type": "stream",
          "text": [
            "Get some sleep!\n"
          ]
        }
      ],
      "source": [
        "sleepy = 'very'\n",
        "\n",
        "if sleepy == 'very':\n",
        "    print('Get some sleep!')\n",
        "else:\n",
        "    print(\"Consider a nap?\")"
      ]
    },
    {
      "cell_type": "markdown",
      "metadata": {},
      "source": [
        "Python Boolean’s MUST be capitalized, and they belong to the bool class."
      ]
    },
    {
      "cell_type": "code",
      "execution_count": 22,
      "metadata": {
        "trusted": true
      },
      "outputs": [
        {
          "data": {
            "text/plain": [
              "bool"
            ]
          },
          "execution_count": 22,
          "metadata": {},
          "output_type": "execute_result"
        }
      ],
      "source": [
        "type(True)\n",
        "# <class 'bool'>"
      ]
    },
    {
      "cell_type": "markdown",
      "metadata": {},
      "source": [
        "### Boolean Operators"
      ]
    },
    {
      "cell_type": "markdown",
      "metadata": {},
      "source": [
        "The `and` operator\n",
        "\n",
        "All conditions must evaluate to True for the code block to run"
      ]
    },
    {
      "cell_type": "code",
      "execution_count": 23,
      "metadata": {
        "trusted": true
      },
      "outputs": [
        {
          "name": "stdout",
          "output_type": "stream",
          "text": [
            "Success!\n"
          ]
        }
      ],
      "source": [
        "num = 7\n",
        "a_string = 'foobar'\n",
        "\n",
        "if a_string == 'foobar' and num == 7:\n",
        "    print('Success!')\n",
        "# Success"
      ]
    },
    {
      "cell_type": "markdown",
      "metadata": {},
      "source": [
        "The `or` operator\n",
        "\n",
        "At least one of the conditions must evaluate to `True`"
      ]
    },
    {
      "cell_type": "code",
      "execution_count": 24,
      "metadata": {
        "trusted": true
      },
      "outputs": [
        {
          "name": "stdout",
          "output_type": "stream",
          "text": [
            "Success!\n"
          ]
        }
      ],
      "source": [
        "num = 3\n",
        "a_string = 'foobar'\n",
        "\n",
        "if a_string == 'foobar' or num == 7:\n",
        "    print('Success!')\n",
        "# Success"
      ]
    },
    {
      "attachments": {
        "6201a2f1-3836-4289-9d01-35c98f732f69.png": {
          "image/png": "[encoded data removed]"
        }
      },
      "cell_type": "markdown",
      "metadata": {},
      "source": [
        "![image.png](attachment:6201a2f1-3836-4289-9d01-35c98f732f69.png)"
      ]
    },
    {
      "cell_type": "markdown",
      "metadata": {},
      "source": [
        "Exercise\n",
        "\n",
        "Complete the code snippet so that both conditions must evaluate to True for the word ‘yes’ to be printed"
      ]
    },
    {
      "cell_type": "code",
      "execution_count": 25,
      "metadata": {
        "trusted": true
      },
      "outputs": [
        {
          "ename": "SyntaxError",
          "evalue": "invalid syntax (1008161907.py, line 4)",
          "output_type": "error",
          "traceback": [
            "\u001b[1;36m  Cell \u001b[1;32mIn[25], line 4\u001b[1;36m\u001b[0m\n\u001b[1;33m    if x == 7 <INSERT ANSWER> a_string == 'python':\u001b[0m\n\u001b[1;37m                      ^\u001b[0m\n\u001b[1;31mSyntaxError\u001b[0m\u001b[1;31m:\u001b[0m invalid syntax\n"
          ]
        }
      ],
      "source": [
        "x = 7\n",
        "a_string = 'python'\n",
        "\n",
        "if x == 7 <INSERT ANSWER> a_string == 'python':\n",
        "    print('yes')\n",
        "else:\n",
        "    print('no')"
      ]
    },
    {
      "cell_type": "markdown",
      "metadata": {},
      "source": [
        "### Indentation and Commenting"
      ]
    },
    {
      "cell_type": "markdown",
      "metadata": {},
      "source": [
        "Python relies on the use of indentation (tabs) to work"
      ]
    },
    {
      "cell_type": "code",
      "execution_count": null,
      "metadata": {
        "trusted": true
      },
      "outputs": [
        {
          "name": "stdout",
          "output_type": "stream",
          "text": [
            "Will print this.\n",
            "What about this one?\n"
          ]
        }
      ],
      "source": [
        "if True:\n",
        "    print('Will print this.')\n",
        "else:\n",
        "    print('This will not be printed')\n",
        "print('What about this one?')\n",
        "# Will print this.\n",
        "# What about this one?"
      ]
    },
    {
      "cell_type": "markdown",
      "metadata": {},
      "source": [
        "If rewritten"
      ]
    },
    {
      "cell_type": "code",
      "execution_count": null,
      "metadata": {
        "trusted": true
      },
      "outputs": [
        {
          "name": "stdout",
          "output_type": "stream",
          "text": [
            "Will print this.\n"
          ]
        }
      ],
      "source": [
        "if True:\n",
        "    print('Will print this.')\n",
        "else:\n",
        "    print('This will not be printed')\n",
        "    print('What about this one?')\n",
        "# Will print this."
      ]
    },
    {
      "cell_type": "markdown",
      "metadata": {},
      "source": [
        "The indentation determines whether the last call to print belongs to the else statement or whether it should be called separately from the if statement.\n",
        "\n",
        "Note: Indentation doesn’t matter for commented out lines"
      ]
    },
    {
      "cell_type": "markdown",
      "metadata": {},
      "source": [
        "### Exercise"
      ]
    },
    {
      "cell_type": "code",
      "execution_count": null,
      "metadata": {},
      "outputs": [],
      "source": []
    }
  ],
  "metadata": {
    "kernelspec": {
      "display_name": "Python 3",
      "language": "python",
      "name": "python3"
    },
    "language_info": {
      "codemirror_mode": {
        "name": "ipython",
        "version": 3
      },
      "file_extension": ".py",
      "mimetype": "text/x-python",
      "name": "python",
      "nbconvert_exporter": "python",
      "pygments_lexer": "ipython3",
      "version": "3.11.1"
    }
  },
  "nbformat": 4,
  "nbformat_minor": 4
}
