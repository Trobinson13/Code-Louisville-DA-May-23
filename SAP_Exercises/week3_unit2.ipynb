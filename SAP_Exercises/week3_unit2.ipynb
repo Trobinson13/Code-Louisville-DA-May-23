{
 "cells": [
  {
   "cell_type": "markdown",
   "metadata": {},
   "source": [
    "# CodeOcean Week 3, Unit 2: Exercise (Python_1)"
   ]
  },
  {
   "cell_type": "markdown",
   "metadata": {},
   "source": [
    "## Dictionary Examples"
   ]
  },
  {
   "cell_type": "markdown",
   "metadata": {},
   "source": [
    "1. If the key exists in the dictionary, the method returns the corresponding value associated with that key.\n",
    "2. If the key is not found in the dictionary, the method returns the default_value, if provided.\n",
    "3. If the key is not found, and no default_value is provided, the method returns None.\n",
    "\n",
    "Below are examples"
   ]
  },
  {
   "cell_type": "code",
   "execution_count": null,
   "metadata": {},
   "outputs": [],
   "source": [
    "my_dict = {\"apple\": 3, \"banana\": 2, \"orange\": 5}\n",
    "\n",
    "# Key exists in the dictionary\n",
    "print(my_dict.get(\"banana\"))        # Output: 2\n",
    "\n",
    "# Key does not exist in the dictionary\n",
    "print(my_dict.get(\"grapes\"))        # Output: None\n",
    "\n",
    "# Using a default value when key is not found\n",
    "print(my_dict.get(\"grapes\", 0))     # Output: 0"
   ]
  },
  {
   "cell_type": "markdown",
   "metadata": {},
   "source": [
    "## Solution 1"
   ]
  },
  {
   "cell_type": "code",
   "execution_count": null,
   "metadata": {},
   "outputs": [],
   "source": [
    "emoji_dict = {\n",
    "\"happy\": \"😃\",\n",
    "\"heart\": \"😍\",\n",
    "\"rotfl\": \"🤣\",\n",
    "\"smile\": \"😊\",\n",
    "\"crying\": \"😭\",\n",
    "\"kiss\": \"😘\",\n",
    "\"clap\": \"👏\",\n",
    "\"grin\": \"😁\",\n",
    "\"fire\": \"🔥\",\n",
    "\"broken\": \"💔\",\n",
    "\"think\": \"🤔\",\n",
    "\"excited\": \"🤩\",\n",
    "\"boring\": \"🙄\",\n",
    "\"winking\": \"😉\",\n",
    "\"ok\": \"👌\",\n",
    "\"hug\": \"🤗\",\n",
    "\"cool\": \"😎\",\n",
    "\"angry\": \"😠\",\n",
    "\"python\": \"🐍\"\n",
    "}\n",
    "\n",
    "string_to_translate = input(\"Please enter a sentence: \")\n",
    "\n",
    "# user input string into individual words\n",
    "words = string_to_translate.split()\n",
    "# Create empty placeholder for new sentence\n",
    "translated_words = []\n",
    "\n",
    "# Loop over every word\n",
    "for word in words:\n",
    "    # If lowercase match of \"word\" is found in emoji_dict, set \"translated_word\".\n",
    "    # If not found, sets \"translated_word\" to default value of word\n",
    "    translated_word = emoji_dict.get(word.lower(), word)\n",
    "    # add translated word to list of translated words\n",
    "    translated_words.append(translated_word)\n",
    "\n",
    "# create emoji sentence from joining each entry in translated words with a \" \" as the seperator.\n",
    "emoji_sentence = \" \".join(translated_words)\n",
    "print(emoji_sentence)"
   ]
  },
  {
   "cell_type": "markdown",
   "metadata": {},
   "source": [
    "## Solution 2"
   ]
  },
  {
   "cell_type": "code",
   "execution_count": null,
   "metadata": {},
   "outputs": [],
   "source": [
    "emoji_dict = {\n",
    "\"happy\": \"😃\",\n",
    "\"heart\": \"😍\",\n",
    "\"rotfl\": \"🤣\",\n",
    "\"smile\": \"😊\",\n",
    "\"crying\": \"😭\",\n",
    "\"kiss\": \"😘\",\n",
    "\"clap\": \"👏\",\n",
    "\"grin\": \"😁\",\n",
    "\"fire\": \"🔥\",\n",
    "\"broken\": \"💔\",\n",
    "\"think\": \"🤔\",\n",
    "\"excited\": \"🤩\",\n",
    "\"boring\": \"🙄\",\n",
    "\"winking\": \"😉\",\n",
    "\"ok\": \"👌\",\n",
    "\"hug\": \"🤗\",\n",
    "\"cool\": \"😎\",\n",
    "\"angry\": \"😠\",\n",
    "\"python\": \"🐍\"\n",
    "}\n",
    "\n",
    "string_to_translate = input(\"Please enter a sentence: \")\n",
    "\n",
    "for key, value in emoji_dict.items():\n",
    "    string_to_translate = string_to_translate.replace(key, value)\n",
    "\n",
    "print(string_to_translate)"
   ]
  }
 ],
 "metadata": {
  "kernelspec": {
   "display_name": "Python 3",
   "language": "python",
   "name": "python3"
  },
  "language_info": {
   "codemirror_mode": {
    "name": "ipython",
    "version": 3
   },
   "file_extension": ".py",
   "mimetype": "text/x-python",
   "name": "python",
   "nbconvert_exporter": "python",
   "pygments_lexer": "ipython3",
   "version": "3.11.1"
  },
  "orig_nbformat": 4
 },
 "nbformat": 4,
 "nbformat_minor": 2
}
